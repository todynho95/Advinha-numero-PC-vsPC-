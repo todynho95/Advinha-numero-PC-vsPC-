{
  "nbformat": 4,
  "nbformat_minor": 0,
  "metadata": {
    "colab": {
      "provenance": [],
      "authorship_tag": "ABX9TyPJu5cLCovQ0s8ARVppm6BT",
      "include_colab_link": true
    },
    "kernelspec": {
      "name": "python3",
      "display_name": "Python 3"
    },
    "language_info": {
      "name": "python"
    }
  },
  "cells": [
    {
      "cell_type": "markdown",
      "metadata": {
        "id": "view-in-github",
        "colab_type": "text"
      },
      "source": [
        "<a href=\"https://colab.research.google.com/github/todynho95/Advinha-numero-PC-vsPC-/blob/main/Untitled4.ipynb\" target=\"_parent\"><img src=\"https://colab.research.google.com/assets/colab-badge.svg\" alt=\"Open In Colab\"/></a>"
      ]
    },
    {
      "cell_type": "code",
      "source": [
        "# Programa para interface de retirada de pizza\n",
        "print(\"Bem-vindos à Pizzaria do William Vieira Fernandes\")  # Seu nome completo\n",
        "\n",
        "# Função para exibir o menu\n",
        "def exibir_menu():\n",
        "    print(\"\\nMenu:\")\n",
        "    print(\"Pizza Salgada (PS):\")\n",
        "    print(\"  - Tamanho P: R$ 30\")\n",
        "    print(\"  - Tamanho M: R$ 45\")\n",
        "    print(\"  - Tamanho G: R$ 60\")\n",
        "    print(\"Pizza Doce (PD):\")\n",
        "    print(\"  - Tamanho P: R$ 34\")\n",
        "    print(\"  - Tamanho M: R$ 48\")\n",
        "    print(\"  - Tamanho G: R$ 66\")\n",
        "\n",
        "exibir_menu()\n",
        "\n",
        "#  preços\n",
        "precos = {\n",
        "    'PS': {'P': 30, 'M': 45, 'G': 60},\n",
        "    'PD': {'P': 34, 'M': 48, 'G': 66}\n",
        "}\n",
        "\n",
        "total_pedido = 0  # Acumulador para o total do pedido\n",
        "\n",
        "while True:\n",
        "    # Input do sabor\n",
        "    sabor = input(\"\\nDigite o sabor (PS - Salgada / PD - Doce): \").upper()\n",
        "\n",
        "    # Verificar se o sabor é válido\n",
        "    if sabor not in ['PS', 'PD']:\n",
        "        print(\"Sabor inválido. Tente novamente.\")\n",
        "        continue  # Volta ao início do loop\n",
        "\n",
        "    # Input do tamanho\n",
        "    tamanho = input(\"Digite o tamanho (P/M/G): \").upper()\n",
        "\n",
        "    # Verificar se o tamanho é válido\n",
        "    if tamanho not in ['P', 'M', 'G']:\n",
        "        print(\"Tamanho inválido. Tente novamente.\")\n",
        "        continue  # Volta ao início do loop\n",
        "\n",
        "    # Calcular o valor com base no sabor e tamanho\n",
        "    valor = precos[sabor][tamanho]\n",
        "    total_pedido += valor  # Somar o valor ao total do pedido\n",
        "\n",
        "    print(f\"Você pediu uma pizza {'Salgada' if sabor == 'PS' else 'Doce'} tamanho {tamanho}. Valor: R$ {valor}\")\n",
        "\n",
        "    # Perguntar se o cliente deseja pedir mais alguma coisa\n",
        "    mais_pedido = input(\"Deseja pedir mais alguma coisa? (S/N): \").upper()\n",
        "\n",
        "    if mais_pedido == 'N':\n",
        "        break  # Encerra o loop se o cliente não quiser mais nada\n",
        "\n",
        "# Exibir o total do pedido\n",
        "print(f\"\\nO total do seu pedido é: R$ {total_pedido}\")\n",
        "print(\"Obrigado por comprar na Pizzaria do William Vieira Fernandes!\")\n"
      ],
      "metadata": {
        "colab": {
          "base_uri": "https://localhost:8080/"
        },
        "id": "uhP0_fRkC5ns",
        "outputId": "3521b901-910e-4dc1-d9b9-bf4ab44e560a"
      },
      "execution_count": 7,
      "outputs": [
        {
          "output_type": "stream",
          "name": "stdout",
          "text": [
            "Bem-vindos à Pizzaria do William Vieira Fernandes\n",
            "\n",
            "Menu:\n",
            "Pizza Salgada (PS):\n",
            "  - Tamanho P: R$ 30\n",
            "  - Tamanho M: R$ 45\n",
            "  - Tamanho G: R$ 60\n",
            "Pizza Doce (PD):\n",
            "  - Tamanho P: R$ 34\n",
            "  - Tamanho M: R$ 48\n",
            "  - Tamanho G: R$ 66\n",
            "\n",
            "Digite o sabor (PS - Salgada / PD - Doce): PD\n",
            "Digite o tamanho (P/M/G): M\n",
            "Você pediu uma pizza Doce tamanho M. Valor: R$ 48\n",
            "Deseja pedir mais alguma coisa? (S/N): N\n",
            "\n",
            "O total do seu pedido é: R$ 48\n",
            "Obrigado por comprar na Pizzaria do William Vieira Fernandes!\n"
          ]
        }
      ]
    }
  ]
}